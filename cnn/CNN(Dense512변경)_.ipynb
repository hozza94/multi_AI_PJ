{
  "nbformat": 4,
  "nbformat_minor": 0,
  "metadata": {
    "colab": {
      "name": "CNN(Dense512변경)_.ipynb",
      "provenance": [],
      "collapsed_sections": [],
      "machine_shape": "hm"
    },
    "kernelspec": {
      "name": "python3",
      "display_name": "Python 3"
    },
    "language_info": {
      "name": "python"
    }
  },
  "cells": [
    {
      "cell_type": "code",
      "metadata": {
        "id": "FplqpHVx7Mdc"
      },
      "source": [
        ""
      ],
      "execution_count": null,
      "outputs": []
    },
    {
      "cell_type": "code",
      "metadata": {
        "colab": {
          "base_uri": "https://localhost:8080/"
        },
        "id": "6m3vcnP27P4b",
        "outputId": "9a2bbf54-c8cc-4d4d-8025-6cc771815567"
      },
      "source": [
        "from google.colab import drive\n",
        "drive.mount('/content/drive')"
      ],
      "execution_count": null,
      "outputs": [
        {
          "output_type": "stream",
          "name": "stdout",
          "text": [
            "Drive already mounted at /content/drive; to attempt to forcibly remount, call drive.mount(\"/content/drive\", force_remount=True).\n"
          ]
        }
      ]
    },
    {
      "cell_type": "markdown",
      "metadata": {
        "id": "664jLC51thcT"
      },
      "source": [
        "# 이미지와 CSV 파일 불러오기"
      ]
    },
    {
      "cell_type": "code",
      "metadata": {
        "id": "O6iPWDGd7emq"
      },
      "source": [
        "import numpy as np\n",
        "import pandas as pd\n",
        "from tensorflow import keras\n",
        "from tensorflow.keras import layers\n",
        "from sklearn.model_selection import KFold\n",
        "import tensorflow as tf\n",
        "\n",
        "\n",
        "path=\"/content/drive/MyDrive/petfinder-pawpularity-score\"\n",
        "train=pd.read_csv(path+'/train.csv')\n",
        "test=pd.read_csv(path+'/test.csv')"
      ],
      "execution_count": null,
      "outputs": []
    },
    {
      "cell_type": "code",
      "metadata": {
        "id": "MXU6dG937et0"
      },
      "source": [
        "train[\"file_path\"] = train[\"Id\"].apply(lambda x:path +\"/train/\"+ x + \".jpg\")\n",
        "test[\"file_path\"] = test[\"Id\"].apply(lambda x:path +\"/test/\"+ x + \".jpg\")"
      ],
      "execution_count": null,
      "outputs": []
    },
    {
      "cell_type": "code",
      "metadata": {
        "colab": {
          "base_uri": "https://localhost:8080/"
        },
        "id": "igzwXGm3tpbo",
        "outputId": "6bec5d5a-c06b-43db-e646-4a5bf9941ebd"
      },
      "source": [
        "train[\"file_path\"][:5]"
      ],
      "execution_count": null,
      "outputs": [
        {
          "output_type": "execute_result",
          "data": {
            "text/plain": [
              "0    /content/drive/MyDrive/petfinder-pawpularity-s...\n",
              "1    /content/drive/MyDrive/petfinder-pawpularity-s...\n",
              "2    /content/drive/MyDrive/petfinder-pawpularity-s...\n",
              "3    /content/drive/MyDrive/petfinder-pawpularity-s...\n",
              "4    /content/drive/MyDrive/petfinder-pawpularity-s...\n",
              "Name: file_path, dtype: object"
            ]
          },
          "metadata": {},
          "execution_count": 50
        }
      ]
    },
    {
      "cell_type": "markdown",
      "metadata": {
        "id": "GdJlCeOSq-S2"
      },
      "source": [
        "# 이미지 전처리\n",
        "- 이미지 크기 128 x 128로 변환\n",
        "- JPEG로 인코딩 된 이미지를 uint8 텐서로 디코딩\n",
        "- 255로 나누어 픽셀값 정규화 \n",
        "\n"
      ]
    },
    {
      "cell_type": "code",
      "metadata": {
        "id": "YGKibfeY7ewF"
      },
      "source": [
        "image_size = 128\n",
        "def preprocess(image_url):\n",
        "    image_string = tf.io.read_file(image_url)\n",
        "    image = tf.image.decode_jpeg(image_string, channels=3)\n",
        "    image = tf.cast(image, tf.float32) / 255.0\n",
        "    image = tf.image.resize(image, (image_size, image_size))\n",
        "    return image\n",
        "    "
      ],
      "execution_count": null,
      "outputs": []
    },
    {
      "cell_type": "markdown",
      "metadata": {
        "id": "bZJO73sFuYtY"
      },
      "source": [
        "![image.png](data:image/png;base64,iVBORw0KGgoAAAANSUhEUgAAAQAAAAAbCAYAAACTFFGKAAAELElEQVR4Ae1av2vbQBTW39C9QyCb7CxZNHQRGTw7HTKEgkMhg2lqCPEQQ6CEFpwhxiSBpAQcmkJUiqcsCo1KPRTFgyiCcH/PV06yrLMk/5AiEif3huN00kl39973vvfunZRKpQIqJAPCgJwYUEjxciqe9E565xhQ1tbWQIVkQBiQEwPKwsICqJAMCANyYkDRNA1USAaEATkxQARABEgOQGIMEAFIrHzy+nJ6fVHvRABEABQBSIwBIgCJlS96ArqWMxogAiACoAggKwbaJthNK1F+rRsGs/0IpLJtwOkbqGVcAxFARsGRx3wEcM+7bp6CALjBMwY2qaQgBCKAeQcZzS/Rw8YIuLmCxa20pKSjemTCvh8YlGPB+LQ+HE/f6cByBs/uHVgXdeiiPjgBTDDE8RGAjvK7Oj5fdGHZLuyr2nBMf106NvYNWH0XjDkwtiesi88hhcFH5UYEICqUriNAnAC8eZJVswTlbhXK7QqW08xr/xqu20PnYwmaVsLmqQXXvcaBztfdQNdhsH80UNI0lHYN2MxBd1eQSdYIYNuA7dqwfnbQ/cvgRAhgvW168zK+VFH25iKMKa5vEA04fWfsViRq8NE2EYAoULp+fgQwMP7XzTFGMkGnG4cGzPOGsOYWzMDjesZl4XhogDqOfzHY36th/8wRQDhXnisYJQBOPA66e3o4TmwNNRh9HpmE0UHtyvGikdFvheNEDT9oEwHEhDtdaIHwqH5iWT3A+GO608uon/fg2pd+Qu3QD63rAj7ixvrw9ce+uWPA+deD+ds3aBbZevD+fNsxbnsx7Xl03UQAgoKjwqH2wwGeiwy3VvAqGt7naPyB0bB7G5c7A8+bsLceGussibhhbiD00kmyGH4zwKEXVbiwvtbGbz2Cvrzmc6EcwJwAVVQMXU8IYdPpa7m5gte3wh4/R+MPjbKEzRMTLrNw/FaDljoC4NsHE62Uek8kgBGDTth6iGMQAaQDU6hweu95yeINFjkJ8GTf3Sqy7Pmj643nAPzEnxdef7iEzclgmAMo4+xPPAcQ7rlzIoC9rpCI5BglAsjNk0QBQO3nRoI+CeRh/Fz35RMLzLVw5p0C8KO3LhzWQ+c9l0vyKcDIkVzbFBJ4ORGA5if4+OkDPwEYOX2YknQcPZI0Z7IbygGI4RRdzwSal0OcJTS+WXBm/A/APK3G/gMII4BsZBrbAmga9MoBru3g/wMb5lFk3BxxSgSQozBfjmFkA7N065/mkcf8JjxPciICIAKQzOsTuYkERARABEAEIDEGiAAkVr7oCehazsiACIAIgCIAiTFABCCx8snry+n1Rb0rqqqCCslgvjBQgKpmKIUiVK8UoBaSSvA8XheCd4tFqNMK7zutz5jnhcF9XntlqYgCL0E7qIP7QR25X1xa8t8bPOdt757QL9rHGyf43qD+D/8i6eDEJQndAAAAAElFTkSuQmCC)\n"
      ]
    },
    {
      "cell_type": "markdown",
      "metadata": {
        "id": "MdqOuPP_vfL-"
      },
      "source": [
        "## 이미지 전처리(train, test) "
      ]
    },
    {
      "cell_type": "code",
      "metadata": {
        "id": "6VZfdmPvvRk-"
      },
      "source": [
        "x_train=[]\n",
        "for i in train['file_path']:\n",
        "    x1=preprocess(i)\n",
        "    x_train.append(x1)"
      ],
      "execution_count": null,
      "outputs": []
    },
    {
      "cell_type": "code",
      "metadata": {
        "id": "TP2U-wWk7eyf"
      },
      "source": [
        "test2=[]\n",
        "for i in test['file_path']:\n",
        "    x1=preprocess(i)\n",
        "    test2.append(x1)\n",
        "test2=np.array(test2)"
      ],
      "execution_count": null,
      "outputs": []
    },
    {
      "cell_type": "code",
      "metadata": {
        "id": "viuMGelHmSBd"
      },
      "source": [
        ""
      ],
      "execution_count": null,
      "outputs": []
    },
    {
      "cell_type": "markdown",
      "metadata": {
        "id": "7rsiQlvhvxEG"
      },
      "source": [
        "#모델 학습\n"
      ]
    },
    {
      "cell_type": "code",
      "metadata": {
        "id": "203MQBB-7e0w"
      },
      "source": [
        "x_train=np.array(x_train)\n",
        "y_train=train['Pawpularity']\n",
        "from sklearn.model_selection import train_test_split\n",
        "x_train,x_test,y_train,y_test=train_test_split(x_train,y_train,test_size=0.2)"
      ],
      "execution_count": null,
      "outputs": []
    },
    {
      "cell_type": "code",
      "metadata": {
        "id": "Z-4BSP2g7e27"
      },
      "source": [
        "inputs=keras.Input(shape=(128,128,3))\n",
        "x=inputs\n",
        "x=keras.layers.Conv2D(filters=4,kernel_size=3,strides=2,padding='same',activation='relu')(x)\n",
        "x=keras.layers.Conv2D(filters=8,kernel_size=3,strides=2,padding='same',activation='relu')(x)\n",
        "x=keras.layers.Conv2D(filters=16,kernel_size=3,strides=2,padding='same',activation='relu')(x)\n",
        "x=keras.layers.Conv2D(filters=32,kernel_size=3,strides=2,padding='same',activation='relu')(x)\n",
        "x=keras.layers.Flatten()(x)\n",
        "x=keras.layers.Dense(512, activation = \"relu\")(x)\n",
        "x=keras.layers.Dropout(0.5)(x)\n",
        "output = tf.keras.layers.Dense(1)(x)\n",
        "model = tf.keras.Model(inputs=inputs, outputs=output)\n"
      ],
      "execution_count": null,
      "outputs": []
    },
    {
      "cell_type": "code",
      "metadata": {
        "id": "gV35cGMd7e5L"
      },
      "source": [
        "early_stop = tf.keras.callbacks.EarlyStopping(\n",
        "    patience=5\n",
        "    )\n",
        "reduce_lr = tf.keras.callbacks.ReduceLROnPlateau(\n",
        "    factor=0.1,\n",
        "    patience=2, \n",
        "    min_lr=1e-9\n",
        "    )\n",
        "callbacks = [early_stop,reduce_lr]"
      ],
      "execution_count": null,
      "outputs": []
    },
    {
      "cell_type": "code",
      "metadata": {
        "id": "B5GP2Z3d7e7U"
      },
      "source": [
        "model.compile(loss='mse', optimizer='Adam', metrics=[tf.keras.metrics.RootMeanSquaredError(name=\"rmse\"), \"mae\", \"mape\"])"
      ],
      "execution_count": null,
      "outputs": []
    },
    {
      "cell_type": "code",
      "metadata": {
        "colab": {
          "base_uri": "https://localhost:8080/"
        },
        "id": "CGE1eISX7e9y",
        "outputId": "048fd1b5-0b8e-4f72-87c6-b01a0b800832"
      },
      "source": [
        "history = model.fit(x_train,y_train, epochs=25,batch_size=32,validation_data = (x_test,y_test),callbacks=callbacks)"
      ],
      "execution_count": null,
      "outputs": [
        {
          "output_type": "stream",
          "name": "stdout",
          "text": [
            "Epoch 1/25\n",
            "248/248 [==============================] - 11s 41ms/step - loss: 507.0317 - rmse: 22.5174 - mae: 16.7516 - mape: 80.3060 - val_loss: 462.3041 - val_rmse: 21.5013 - val_mae: 14.8807 - val_mape: 60.3514\n",
            "Epoch 2/25\n",
            "248/248 [==============================] - 10s 39ms/step - loss: 443.0087 - rmse: 21.0478 - mae: 15.6741 - mape: 79.9958 - val_loss: 435.5179 - val_rmse: 20.8691 - val_mae: 14.8932 - val_mape: 65.3132\n",
            "Epoch 3/25\n",
            "248/248 [==============================] - 10s 39ms/step - loss: 444.6470 - rmse: 21.0867 - mae: 15.7731 - mape: 80.5477 - val_loss: 431.1646 - val_rmse: 20.7645 - val_mae: 14.9507 - val_mape: 66.6720\n",
            "Epoch 4/25\n",
            "248/248 [==============================] - 10s 40ms/step - loss: 435.0504 - rmse: 20.8579 - mae: 15.6298 - mape: 79.5241 - val_loss: 424.7418 - val_rmse: 20.6093 - val_mae: 15.6342 - val_mape: 75.4893\n",
            "Epoch 5/25\n",
            "248/248 [==============================] - 10s 40ms/step - loss: 436.5720 - rmse: 20.8943 - mae: 15.6091 - mape: 79.8643 - val_loss: 427.7426 - val_rmse: 20.6819 - val_mae: 15.0259 - val_mape: 68.2757\n",
            "Epoch 6/25\n",
            "248/248 [==============================] - 10s 40ms/step - loss: 439.4606 - rmse: 20.9633 - mae: 15.6857 - mape: 80.0345 - val_loss: 432.1809 - val_rmse: 20.7890 - val_mae: 16.2296 - val_mape: 80.7919\n",
            "Epoch 7/25\n",
            "248/248 [==============================] - 10s 40ms/step - loss: 429.7498 - rmse: 20.7304 - mae: 15.5716 - mape: 80.5129 - val_loss: 424.2859 - val_rmse: 20.5982 - val_mae: 15.1699 - val_mape: 70.4331\n",
            "Epoch 8/25\n",
            "248/248 [==============================] - 10s 39ms/step - loss: 427.3283 - rmse: 20.6719 - mae: 15.5005 - mape: 79.4492 - val_loss: 422.9929 - val_rmse: 20.5668 - val_mae: 15.3176 - val_mape: 72.2763\n",
            "Epoch 9/25\n",
            "248/248 [==============================] - 10s 40ms/step - loss: 429.0122 - rmse: 20.7126 - mae: 15.5235 - mape: 79.4764 - val_loss: 424.0263 - val_rmse: 20.5919 - val_mae: 15.5935 - val_mape: 75.1775\n",
            "Epoch 10/25\n",
            "248/248 [==============================] - 10s 40ms/step - loss: 426.3566 - rmse: 20.6484 - mae: 15.4931 - mape: 79.8805 - val_loss: 424.7653 - val_rmse: 20.6098 - val_mae: 15.1096 - val_mape: 69.7129\n",
            "Epoch 11/25\n",
            "248/248 [==============================] - 10s 40ms/step - loss: 426.3360 - rmse: 20.6479 - mae: 15.3769 - mape: 78.3463 - val_loss: 423.2493 - val_rmse: 20.5730 - val_mae: 15.2817 - val_mape: 71.8362\n",
            "Epoch 12/25\n",
            "248/248 [==============================] - 10s 39ms/step - loss: 426.4994 - rmse: 20.6519 - mae: 15.4525 - mape: 80.0195 - val_loss: 423.4190 - val_rmse: 20.5771 - val_mae: 15.2451 - val_mape: 71.4121\n",
            "Epoch 13/25\n",
            "248/248 [==============================] - 10s 39ms/step - loss: 427.3257 - rmse: 20.6719 - mae: 15.4344 - mape: 79.4364 - val_loss: 423.4137 - val_rmse: 20.5770 - val_mae: 15.2459 - val_mape: 71.4222\n"
          ]
        }
      ]
    },
    {
      "cell_type": "code",
      "metadata": {
        "colab": {
          "base_uri": "https://localhost:8080/"
        },
        "id": "k-UC1hyA7e_w",
        "outputId": "f6ad3381-17d2-4368-c23b-0b99bda7af27"
      },
      "source": [
        "cnn_pred=model.predict(test2)\n",
        "cnn_pred"
      ],
      "execution_count": null,
      "outputs": [
        {
          "output_type": "execute_result",
          "data": {
            "text/plain": [
              "array([[37.08427 ],\n",
              "       [36.57613 ],\n",
              "       [36.37271 ],\n",
              "       [36.44017 ],\n",
              "       [36.456722],\n",
              "       [36.625946],\n",
              "       [37.1197  ],\n",
              "       [36.936768]], dtype=float32)"
            ]
          },
          "metadata": {},
          "execution_count": 59
        }
      ]
    },
    {
      "cell_type": "code",
      "metadata": {
        "id": "idKjAka-PwKo"
      },
      "source": [
        ""
      ],
      "execution_count": null,
      "outputs": []
    }
  ]
}