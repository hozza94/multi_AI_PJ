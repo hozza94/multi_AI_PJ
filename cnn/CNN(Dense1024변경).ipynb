{
  "nbformat": 4,
  "nbformat_minor": 0,
  "metadata": {
    "colab": {
      "name": "CNN(Dense1024변경).ipynb",
      "provenance": [],
      "collapsed_sections": [],
      "machine_shape": "hm"
    },
    "kernelspec": {
      "name": "python3",
      "display_name": "Python 3"
    },
    "language_info": {
      "name": "python"
    }
  },
  "cells": [
    {
      "cell_type": "code",
      "metadata": {
        "id": "FplqpHVx7Mdc"
      },
      "source": [
        ""
      ],
      "execution_count": null,
      "outputs": []
    },
    {
      "cell_type": "code",
      "metadata": {
        "colab": {
          "base_uri": "https://localhost:8080/"
        },
        "id": "6m3vcnP27P4b",
        "outputId": "9a2bbf54-c8cc-4d4d-8025-6cc771815567"
      },
      "source": [
        "from google.colab import drive\n",
        "drive.mount('/content/drive')"
      ],
      "execution_count": null,
      "outputs": [
        {
          "output_type": "stream",
          "name": "stdout",
          "text": [
            "Drive already mounted at /content/drive; to attempt to forcibly remount, call drive.mount(\"/content/drive\", force_remount=True).\n"
          ]
        }
      ]
    },
    {
      "cell_type": "markdown",
      "metadata": {
        "id": "664jLC51thcT"
      },
      "source": [
        "# 이미지와 CSV 파일 불러오기"
      ]
    },
    {
      "cell_type": "code",
      "metadata": {
        "id": "O6iPWDGd7emq"
      },
      "source": [
        "import numpy as np\n",
        "import pandas as pd\n",
        "from tensorflow import keras\n",
        "from tensorflow.keras import layers\n",
        "from sklearn.model_selection import KFold\n",
        "import tensorflow as tf\n",
        "\n",
        "\n",
        "path=\"/content/drive/MyDrive/petfinder-pawpularity-score\"\n",
        "train=pd.read_csv(path+'/train.csv')\n",
        "test=pd.read_csv(path+'/test.csv')"
      ],
      "execution_count": null,
      "outputs": []
    },
    {
      "cell_type": "code",
      "metadata": {
        "id": "MXU6dG937et0"
      },
      "source": [
        "train[\"file_path\"] = train[\"Id\"].apply(lambda x:path +\"/train/\"+ x + \".jpg\")\n",
        "test[\"file_path\"] = test[\"Id\"].apply(lambda x:path +\"/test/\"+ x + \".jpg\")"
      ],
      "execution_count": null,
      "outputs": []
    },
    {
      "cell_type": "code",
      "metadata": {
        "colab": {
          "base_uri": "https://localhost:8080/"
        },
        "id": "igzwXGm3tpbo",
        "outputId": "6bec5d5a-c06b-43db-e646-4a5bf9941ebd"
      },
      "source": [
        "train[\"file_path\"][:5]"
      ],
      "execution_count": null,
      "outputs": [
        {
          "output_type": "execute_result",
          "data": {
            "text/plain": [
              "0    /content/drive/MyDrive/petfinder-pawpularity-s...\n",
              "1    /content/drive/MyDrive/petfinder-pawpularity-s...\n",
              "2    /content/drive/MyDrive/petfinder-pawpularity-s...\n",
              "3    /content/drive/MyDrive/petfinder-pawpularity-s...\n",
              "4    /content/drive/MyDrive/petfinder-pawpularity-s...\n",
              "Name: file_path, dtype: object"
            ]
          },
          "metadata": {},
          "execution_count": 50
        }
      ]
    },
    {
      "cell_type": "markdown",
      "metadata": {
        "id": "GdJlCeOSq-S2"
      },
      "source": [
        "# 이미지 전처리\n",
        "- 이미지 크기 128 x 128로 변환\n",
        "- JPEG로 인코딩 된 이미지를 uint8 텐서로 디코딩\n",
        "- 255로 나누어 픽셀값 정규화 \n",
        "\n"
      ]
    },
    {
      "cell_type": "code",
      "metadata": {
        "id": "YGKibfeY7ewF"
      },
      "source": [
        "image_size = 128\n",
        "def preprocess(image_url):\n",
        "    image_string = tf.io.read_file(image_url)\n",
        "    image = tf.image.decode_jpeg(image_string, channels=3)\n",
        "    image = tf.cast(image, tf.float32) / 255.0\n",
        "    image = tf.image.resize(image, (image_size, image_size))\n",
        "    return image\n",
        "    "
      ],
      "execution_count": null,
      "outputs": []
    },
    {
      "cell_type": "markdown",
      "metadata": {
        "id": "bZJO73sFuYtY"
      },
      "source": [
        "![image.png](data:image/png;base64,iVBORw0KGgoAAAANSUhEUgAAAQAAAAAbCAYAAACTFFGKAAAELElEQVR4Ae1av2vbQBTW39C9QyCb7CxZNHQRGTw7HTKEgkMhg2lqCPEQQ6CEFpwhxiSBpAQcmkJUiqcsCo1KPRTFgyiCcH/PV06yrLMk/5AiEif3huN00kl39973vvfunZRKpQIqJAPCgJwYUEjxciqe9E565xhQ1tbWQIVkQBiQEwPKwsICqJAMCANyYkDRNA1USAaEATkxQARABEgOQGIMEAFIrHzy+nJ6fVHvRABEABQBSIwBIgCJlS96ArqWMxogAiACoAggKwbaJthNK1F+rRsGs/0IpLJtwOkbqGVcAxFARsGRx3wEcM+7bp6CALjBMwY2qaQgBCKAeQcZzS/Rw8YIuLmCxa20pKSjemTCvh8YlGPB+LQ+HE/f6cByBs/uHVgXdeiiPjgBTDDE8RGAjvK7Oj5fdGHZLuyr2nBMf106NvYNWH0XjDkwtiesi88hhcFH5UYEICqUriNAnAC8eZJVswTlbhXK7QqW08xr/xqu20PnYwmaVsLmqQXXvcaBztfdQNdhsH80UNI0lHYN2MxBd1eQSdYIYNuA7dqwfnbQ/cvgRAhgvW168zK+VFH25iKMKa5vEA04fWfsViRq8NE2EYAoULp+fgQwMP7XzTFGMkGnG4cGzPOGsOYWzMDjesZl4XhogDqOfzHY36th/8wRQDhXnisYJQBOPA66e3o4TmwNNRh9HpmE0UHtyvGikdFvheNEDT9oEwHEhDtdaIHwqH5iWT3A+GO608uon/fg2pd+Qu3QD63rAj7ixvrw9ce+uWPA+deD+ds3aBbZevD+fNsxbnsx7Xl03UQAgoKjwqH2wwGeiwy3VvAqGt7naPyB0bB7G5c7A8+bsLceGussibhhbiD00kmyGH4zwKEXVbiwvtbGbz2Cvrzmc6EcwJwAVVQMXU8IYdPpa7m5gte3wh4/R+MPjbKEzRMTLrNw/FaDljoC4NsHE62Uek8kgBGDTth6iGMQAaQDU6hweu95yeINFjkJ8GTf3Sqy7Pmj643nAPzEnxdef7iEzclgmAMo4+xPPAcQ7rlzIoC9rpCI5BglAsjNk0QBQO3nRoI+CeRh/Fz35RMLzLVw5p0C8KO3LhzWQ+c9l0vyKcDIkVzbFBJ4ORGA5if4+OkDPwEYOX2YknQcPZI0Z7IbygGI4RRdzwSal0OcJTS+WXBm/A/APK3G/gMII4BsZBrbAmga9MoBru3g/wMb5lFk3BxxSgSQozBfjmFkA7N065/mkcf8JjxPciICIAKQzOsTuYkERARABEAEIDEGiAAkVr7oCehazsiACIAIgCIAiTFABCCx8snry+n1Rb0rqqqCCslgvjBQgKpmKIUiVK8UoBaSSvA8XheCd4tFqNMK7zutz5jnhcF9XntlqYgCL0E7qIP7QR25X1xa8t8bPOdt757QL9rHGyf43qD+D/8i6eDEJQndAAAAAElFTkSuQmCC)\n"
      ]
    },
    {
      "cell_type": "markdown",
      "metadata": {
        "id": "MdqOuPP_vfL-"
      },
      "source": [
        "## 이미지 전처리(train, test) "
      ]
    },
    {
      "cell_type": "code",
      "metadata": {
        "id": "6VZfdmPvvRk-"
      },
      "source": [
        "x_train=[]\n",
        "for i in train['file_path']:\n",
        "    x1=preprocess(i)\n",
        "    x_train.append(x1)"
      ],
      "execution_count": null,
      "outputs": []
    },
    {
      "cell_type": "code",
      "metadata": {
        "id": "TP2U-wWk7eyf"
      },
      "source": [
        "test2=[]\n",
        "for i in test['file_path']:\n",
        "    x1=preprocess(i)\n",
        "    test2.append(x1)\n",
        "test2=np.array(test2)"
      ],
      "execution_count": null,
      "outputs": []
    },
    {
      "cell_type": "code",
      "metadata": {
        "id": "viuMGelHmSBd"
      },
      "source": [
        ""
      ],
      "execution_count": null,
      "outputs": []
    },
    {
      "cell_type": "markdown",
      "metadata": {
        "id": "7rsiQlvhvxEG"
      },
      "source": [
        "#모델 학습\n"
      ]
    },
    {
      "cell_type": "code",
      "metadata": {
        "id": "203MQBB-7e0w"
      },
      "source": [
        "x_train=np.array(x_train)\n",
        "y_train=train['Pawpularity']\n",
        "from sklearn.model_selection import train_test_split\n",
        "x_train,x_test,y_train,y_test=train_test_split(x_train,y_train,test_size=0.2)"
      ],
      "execution_count": null,
      "outputs": []
    },
    {
      "cell_type": "code",
      "metadata": {
        "id": "Z-4BSP2g7e27"
      },
      "source": [
        "inputs=keras.Input(shape=(128,128,3))\n",
        "x=inputs\n",
        "x=keras.layers.Conv2D(filters=4,kernel_size=3,strides=2,padding='same',activation='relu')(x)\n",
        "x=keras.layers.Conv2D(filters=8,kernel_size=3,strides=2,padding='same',activation='relu')(x)\n",
        "x=keras.layers.Conv2D(filters=16,kernel_size=3,strides=2,padding='same',activation='relu')(x)\n",
        "x=keras.layers.Conv2D(filters=32,kernel_size=3,strides=2,padding='same',activation='relu')(x)\n",
        "x=keras.layers.Flatten()(x)\n",
        "x=keras.layers.Dense(1024, activation = \"relu\")(x)\n",
        "x=keras.layers.Dropout(0.5)(x)\n",
        "output = tf.keras.layers.Dense(1)(x)\n",
        "model = tf.keras.Model(inputs=inputs, outputs=output)\n"
      ],
      "execution_count": null,
      "outputs": []
    },
    {
      "cell_type": "code",
      "metadata": {
        "id": "gV35cGMd7e5L"
      },
      "source": [
        "early_stop = tf.keras.callbacks.EarlyStopping(\n",
        "    patience=5\n",
        "    )\n",
        "reduce_lr = tf.keras.callbacks.ReduceLROnPlateau(\n",
        "    factor=0.1,\n",
        "    patience=2, \n",
        "    min_lr=1e-9\n",
        "    )\n",
        "callbacks = [early_stop,reduce_lr]"
      ],
      "execution_count": null,
      "outputs": []
    },
    {
      "cell_type": "code",
      "metadata": {
        "id": "B5GP2Z3d7e7U"
      },
      "source": [
        "model.compile(loss='mse', optimizer='Adam', metrics=[tf.keras.metrics.RootMeanSquaredError(name=\"rmse\"), \"mae\", \"mape\"])"
      ],
      "execution_count": null,
      "outputs": []
    },
    {
      "cell_type": "code",
      "metadata": {
        "colab": {
          "base_uri": "https://localhost:8080/"
        },
        "id": "CGE1eISX7e9y",
        "outputId": "d90a966b-9501-4810-8329-3604e5a91c3e"
      },
      "source": [
        "history = model.fit(x_train,y_train, epochs=25,batch_size=32,validation_data = (x_test,y_test),callbacks=callbacks)"
      ],
      "execution_count": null,
      "outputs": [
        {
          "output_type": "stream",
          "name": "stdout",
          "text": [
            "Epoch 1/25\n",
            "248/248 [==============================] - 12s 46ms/step - loss: 498.6767 - rmse: 22.3311 - mae: 16.6474 - mape: 80.4053 - val_loss: 444.2657 - val_rmse: 21.0776 - val_mae: 14.8641 - val_mape: 63.2936\n",
            "Epoch 2/25\n",
            "248/248 [==============================] - 11s 45ms/step - loss: 437.4355 - rmse: 20.9150 - mae: 15.6050 - mape: 80.7010 - val_loss: 432.5914 - val_rmse: 20.7988 - val_mae: 16.2206 - val_mape: 80.4542\n",
            "Epoch 3/25\n",
            "248/248 [==============================] - 11s 46ms/step - loss: 436.5288 - rmse: 20.8933 - mae: 15.6365 - mape: 79.9707 - val_loss: 453.6171 - val_rmse: 21.2983 - val_mae: 14.8228 - val_mape: 61.2979\n",
            "Epoch 4/25\n",
            "248/248 [==============================] - 11s 45ms/step - loss: 436.5308 - rmse: 20.8933 - mae: 15.6568 - mape: 80.4055 - val_loss: 424.9342 - val_rmse: 20.6139 - val_mae: 15.4336 - val_mape: 73.2537\n",
            "Epoch 5/25\n",
            "248/248 [==============================] - 11s 45ms/step - loss: 432.9048 - rmse: 20.8064 - mae: 15.5865 - mape: 80.2285 - val_loss: 424.9246 - val_rmse: 20.6137 - val_mae: 15.5445 - val_mape: 74.7311\n",
            "Epoch 6/25\n",
            "248/248 [==============================] - 11s 46ms/step - loss: 432.9371 - rmse: 20.8071 - mae: 15.5815 - mape: 79.6713 - val_loss: 430.0721 - val_rmse: 20.7382 - val_mae: 15.0066 - val_mape: 67.8656\n",
            "Epoch 7/25\n",
            "248/248 [==============================] - 11s 46ms/step - loss: 431.8477 - rmse: 20.7809 - mae: 15.5743 - mape: 79.9546 - val_loss: 429.0990 - val_rmse: 20.7147 - val_mae: 15.9249 - val_mape: 78.3348\n",
            "Epoch 8/25\n",
            "248/248 [==============================] - 11s 45ms/step - loss: 424.6467 - rmse: 20.6070 - mae: 15.4388 - mape: 79.4227 - val_loss: 425.7230 - val_rmse: 20.6331 - val_mae: 15.2501 - val_mape: 71.3695\n",
            "Epoch 9/25\n",
            "248/248 [==============================] - 11s 45ms/step - loss: 419.1145 - rmse: 20.4723 - mae: 15.3263 - mape: 78.9849 - val_loss: 425.8937 - val_rmse: 20.6372 - val_mae: 15.4489 - val_mape: 73.5805\n",
            "Epoch 10/25\n",
            "248/248 [==============================] - 11s 45ms/step - loss: 419.6263 - rmse: 20.4848 - mae: 15.4042 - mape: 79.8175 - val_loss: 426.3940 - val_rmse: 20.6493 - val_mae: 15.3058 - val_mape: 71.8801\n"
          ]
        }
      ]
    },
    {
      "cell_type": "code",
      "metadata": {
        "colab": {
          "base_uri": "https://localhost:8080/"
        },
        "id": "k-UC1hyA7e_w",
        "outputId": "66cd2da9-6144-48b0-c652-8412e22e03f1"
      },
      "source": [
        "cnn_pred=model.predict(test2)\n",
        "cnn_pred"
      ],
      "execution_count": null,
      "outputs": [
        {
          "output_type": "execute_result",
          "data": {
            "text/plain": [
              "array([[32.845005],\n",
              "       [34.812817],\n",
              "       [32.30809 ],\n",
              "       [33.947346],\n",
              "       [33.07913 ],\n",
              "       [33.14959 ],\n",
              "       [33.424202],\n",
              "       [32.028748]], dtype=float32)"
            ]
          },
          "metadata": {},
          "execution_count": 98
        }
      ]
    },
    {
      "cell_type": "code",
      "metadata": {
        "id": "idKjAka-PwKo"
      },
      "source": [
        ""
      ],
      "execution_count": null,
      "outputs": []
    }
  ]
}