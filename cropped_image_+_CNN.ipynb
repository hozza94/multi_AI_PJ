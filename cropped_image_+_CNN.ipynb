{
  "nbformat": 4,
  "nbformat_minor": 0,
  "metadata": {
    "colab": {
      "name": "cropped image + CNN.ipynb",
      "provenance": []
    },
    "kernelspec": {
      "name": "python3",
      "display_name": "Python 3"
    },
    "language_info": {
      "name": "python"
    }
  },
  "cells": [
    {
      "cell_type": "markdown",
      "metadata": {
        "id": "fIiziMa3Tj7J"
      },
      "source": [
        "# Cropped image + CNN\n",
        "Near 부분이 0 인 값만 Cropped 이미지로 대체하고 CNN 모델로 예측했지만 결과에 별 영향은 없어보입니다.\n",
        "<br>\n",
        "<br>\n",
        "<br>\n",
        "<br>\n",
        "#RMSE 비교\n",
        "### CNN\n",
        "- rmse:21.0734\n",
        "\n",
        "<br>\n",
        "\n",
        "### Cropped image + CNN: \n",
        "-  rmse:21.0737"
      ]
    },
    {
      "cell_type": "code",
      "metadata": {
        "colab": {
          "base_uri": "https://localhost:8080/"
        },
        "id": "plC2E_Hbv9Ol",
        "outputId": "6a53aff1-8bfd-4c54-bea2-54e18f64c798"
      },
      "source": [
        "from google.colab import drive\n",
        "drive.mount('/content/drive')"
      ],
      "execution_count": 11,
      "outputs": [
        {
          "output_type": "stream",
          "name": "stdout",
          "text": [
            "Drive already mounted at /content/drive; to attempt to forcibly remount, call drive.mount(\"/content/drive\", force_remount=True).\n"
          ]
        }
      ]
    },
    {
      "cell_type": "code",
      "metadata": {
        "id": "fV7UksDAwIkp"
      },
      "source": [
        "import numpy as np\n",
        "import pandas as pd\n",
        "from tensorflow import keras\n",
        "from tensorflow.keras import layers\n",
        "from sklearn.model_selection import KFold\n",
        "import tensorflow as tf\n",
        "\n",
        "\n",
        "path=\"/content/drive/MyDrive/petfinder-pawpularity-score\"\n",
        "train=pd.read_csv(path+'/train.csv')\n",
        "test=pd.read_csv(path+'/test.csv')\n"
      ],
      "execution_count": 12,
      "outputs": []
    },
    {
      "cell_type": "code",
      "metadata": {
        "id": "b-zBfiXkwInG"
      },
      "source": [
        "train[\"file_path\"] = train[\"Id\"].apply(lambda x:path +\"/train/\"+ x + \".jpg\")\n",
        "test[\"file_path\"] = test[\"Id\"].apply(lambda x:path +\"/test/\"+ x + \".jpg\")"
      ],
      "execution_count": 13,
      "outputs": []
    },
    {
      "cell_type": "markdown",
      "metadata": {
        "id": "4Ex0ZYeSUpdM"
      },
      "source": [
        "### Near 가 0 인 값 1372개 "
      ]
    },
    {
      "cell_type": "code",
      "metadata": {
        "colab": {
          "base_uri": "https://localhost:8080/"
        },
        "id": "ibx5NuLTwIo9",
        "outputId": "1109d97d-39ca-4e3a-cbf4-66bede9e4c4d"
      },
      "source": [
        "train[train[\"Near\"]==0].sum"
      ],
      "execution_count": null,
      "outputs": [
        {
          "output_type": "execute_result",
          "data": {
            "text/plain": [
              "<bound method DataFrame.sum of                                     Id  ...                                          file_path\n",
              "1     0009c66b9439883ba2750fb825e1d7db  ...  /content/drive/MyDrive/petfinder-pawpularity-s...\n",
              "5     001dd4f6fafb890610b1635f967ea081  ...  /content/drive/MyDrive/petfinder-pawpularity-s...\n",
              "7     0031d6a9ef7340f898c3e05f92c7bb04  ...  /content/drive/MyDrive/petfinder-pawpularity-s...\n",
              "14    00655425c10d4c082dd7eeb97fa4fb17  ...  /content/drive/MyDrive/petfinder-pawpularity-s...\n",
              "17    006fe962f5f7e2c5f527b2e27e28ed6d  ...  /content/drive/MyDrive/petfinder-pawpularity-s...\n",
              "...                                ...  ...                                                ...\n",
              "9864  fe8502be7330dd591b7349492e594f3e  ...  /content/drive/MyDrive/petfinder-pawpularity-s...\n",
              "9888  ff1233d348cba9f95ba35679b35e26b6  ...  /content/drive/MyDrive/petfinder-pawpularity-s...\n",
              "9894  ff5aacc3eeb12cc9c029259d5171a4df  ...  /content/drive/MyDrive/petfinder-pawpularity-s...\n",
              "9897  ff6591fb1b3481fe0c366dfdcdc8ab5f  ...  /content/drive/MyDrive/petfinder-pawpularity-s...\n",
              "9903  ff903858a9899465ee4cd17e942bef24  ...  /content/drive/MyDrive/petfinder-pawpularity-s...\n",
              "\n",
              "[1372 rows x 15 columns]>"
            ]
          },
          "metadata": {},
          "execution_count": 4
        }
      ]
    },
    {
      "cell_type": "code",
      "metadata": {
        "colab": {
          "base_uri": "https://localhost:8080/"
        },
        "id": "Rjh6OPpnwIrC",
        "outputId": "7c890cb2-f088-4175-8b58-ea861fa6ded2"
      },
      "source": [
        "train[train[\"Near\"]==0].index   # Near 가 0 인 데이터는 1,5,7,14 ... index 값들임 "
      ],
      "execution_count": null,
      "outputs": [
        {
          "output_type": "execute_result",
          "data": {
            "text/plain": [
              "Int64Index([   1,    5,    7,   14,   17,   19,   26,   28,   37,   49,\n",
              "            ...\n",
              "            9831, 9842, 9849, 9856, 9863, 9864, 9888, 9894, 9897, 9903],\n",
              "           dtype='int64', length=1372)"
            ]
          },
          "metadata": {},
          "execution_count": 5
        }
      ]
    },
    {
      "cell_type": "code",
      "metadata": {
        "id": "90OSOgrawIs2"
      },
      "source": [
        "# 기존 데이터를 normal_image 에 cropped 데이터를 crop_image\n",
        "crop_path=\"/content/drive/MyDrive/crop/\"\n",
        "train1=pd.read_csv(path+'/train.csv')\n",
        "train1[\"crop_image\"] = train[\"Id\"].apply(lambda x:crop_path +x+ \".jpg\")\n",
        "train1[\"normal_image\"] = train[\"Id\"].apply(lambda x:path +\"/train/\"+ x + \".jpg\")"
      ],
      "execution_count": 36,
      "outputs": []
    },
    {
      "cell_type": "code",
      "metadata": {
        "id": "a0bqjVYvwIzQ",
        "colab": {
          "base_uri": "https://localhost:8080/"
        },
        "outputId": "35fb275e-5aa1-49b6-d7a2-84b78c70b613"
      },
      "source": [
        "# Near 가 0인 index를 뽑아서 그 index만 cropped 이미지로 바꾸고 New_image 데이터프레임에 새로 저장하였습니다.\n",
        "idx=train[train['Near']==0].index\n",
        "train1[\"New_image\"]=train1[\"normal_image\"]\n",
        "for i in idx:\n",
        "    train1[\"New_image\"][idx]=train1[\"crop_image\"][idx]"
      ],
      "execution_count": 39,
      "outputs": [
        {
          "output_type": "stream",
          "name": "stderr",
          "text": [
            "/usr/local/lib/python3.7/dist-packages/ipykernel_launcher.py:5: SettingWithCopyWarning: \n",
            "A value is trying to be set on a copy of a slice from a DataFrame\n",
            "\n",
            "See the caveats in the documentation: https://pandas.pydata.org/pandas-docs/stable/user_guide/indexing.html#returning-a-view-versus-a-copy\n",
            "  \"\"\"\n"
          ]
        }
      ]
    },
    {
      "cell_type": "code",
      "metadata": {
        "id": "MaGC5-ANwI1a",
        "colab": {
          "base_uri": "https://localhost:8080/"
        },
        "outputId": "cdc89f6d-4eea-461e-d2dd-e56ab57f513e"
      },
      "source": [
        "len(idx)"
      ],
      "execution_count": 20,
      "outputs": [
        {
          "output_type": "execute_result",
          "data": {
            "text/plain": [
              "1372"
            ]
          },
          "metadata": {},
          "execution_count": 20
        }
      ]
    },
    {
      "cell_type": "code",
      "metadata": {
        "id": "qeBjo6mLwI3r",
        "colab": {
          "base_uri": "https://localhost:8080/",
          "height": 648
        },
        "outputId": "2945155d-310b-4f32-f5ad-f81b0b979f86"
      },
      "source": [
        "train1  # 1번째 값 cropped 으로 변경됨을 확인"
      ],
      "execution_count": 40,
      "outputs": [
        {
          "output_type": "execute_result",
          "data": {
            "text/html": [
              "<div>\n",
              "<style scoped>\n",
              "    .dataframe tbody tr th:only-of-type {\n",
              "        vertical-align: middle;\n",
              "    }\n",
              "\n",
              "    .dataframe tbody tr th {\n",
              "        vertical-align: top;\n",
              "    }\n",
              "\n",
              "    .dataframe thead th {\n",
              "        text-align: right;\n",
              "    }\n",
              "</style>\n",
              "<table border=\"1\" class=\"dataframe\">\n",
              "  <thead>\n",
              "    <tr style=\"text-align: right;\">\n",
              "      <th></th>\n",
              "      <th>Id</th>\n",
              "      <th>Subject Focus</th>\n",
              "      <th>Eyes</th>\n",
              "      <th>Face</th>\n",
              "      <th>Near</th>\n",
              "      <th>Action</th>\n",
              "      <th>Accessory</th>\n",
              "      <th>Group</th>\n",
              "      <th>Collage</th>\n",
              "      <th>Human</th>\n",
              "      <th>Occlusion</th>\n",
              "      <th>Info</th>\n",
              "      <th>Blur</th>\n",
              "      <th>Pawpularity</th>\n",
              "      <th>crop_image</th>\n",
              "      <th>normal_image</th>\n",
              "      <th>New_image</th>\n",
              "    </tr>\n",
              "    <tr>\n",
              "      <th>index</th>\n",
              "      <th></th>\n",
              "      <th></th>\n",
              "      <th></th>\n",
              "      <th></th>\n",
              "      <th></th>\n",
              "      <th></th>\n",
              "      <th></th>\n",
              "      <th></th>\n",
              "      <th></th>\n",
              "      <th></th>\n",
              "      <th></th>\n",
              "      <th></th>\n",
              "      <th></th>\n",
              "      <th></th>\n",
              "      <th></th>\n",
              "      <th></th>\n",
              "      <th></th>\n",
              "    </tr>\n",
              "  </thead>\n",
              "  <tbody>\n",
              "    <tr>\n",
              "      <th>0</th>\n",
              "      <td>0007de18844b0dbbb5e1f607da0606e0</td>\n",
              "      <td>0</td>\n",
              "      <td>1</td>\n",
              "      <td>1</td>\n",
              "      <td>1</td>\n",
              "      <td>0</td>\n",
              "      <td>0</td>\n",
              "      <td>1</td>\n",
              "      <td>0</td>\n",
              "      <td>0</td>\n",
              "      <td>0</td>\n",
              "      <td>0</td>\n",
              "      <td>0</td>\n",
              "      <td>63</td>\n",
              "      <td>/content/drive/MyDrive/crop/0007de18844b0dbbb5...</td>\n",
              "      <td>/content/drive/MyDrive/petfinder-pawpularity-s...</td>\n",
              "      <td>/content/drive/MyDrive/petfinder-pawpularity-s...</td>\n",
              "    </tr>\n",
              "    <tr>\n",
              "      <th>1</th>\n",
              "      <td>0009c66b9439883ba2750fb825e1d7db</td>\n",
              "      <td>0</td>\n",
              "      <td>1</td>\n",
              "      <td>1</td>\n",
              "      <td>0</td>\n",
              "      <td>0</td>\n",
              "      <td>0</td>\n",
              "      <td>0</td>\n",
              "      <td>0</td>\n",
              "      <td>0</td>\n",
              "      <td>0</td>\n",
              "      <td>0</td>\n",
              "      <td>0</td>\n",
              "      <td>42</td>\n",
              "      <td>/content/drive/MyDrive/crop/0009c66b9439883ba2...</td>\n",
              "      <td>/content/drive/MyDrive/petfinder-pawpularity-s...</td>\n",
              "      <td>/content/drive/MyDrive/crop/0009c66b9439883ba2...</td>\n",
              "    </tr>\n",
              "    <tr>\n",
              "      <th>2</th>\n",
              "      <td>0013fd999caf9a3efe1352ca1b0d937e</td>\n",
              "      <td>0</td>\n",
              "      <td>1</td>\n",
              "      <td>1</td>\n",
              "      <td>1</td>\n",
              "      <td>0</td>\n",
              "      <td>0</td>\n",
              "      <td>0</td>\n",
              "      <td>0</td>\n",
              "      <td>1</td>\n",
              "      <td>1</td>\n",
              "      <td>0</td>\n",
              "      <td>0</td>\n",
              "      <td>28</td>\n",
              "      <td>/content/drive/MyDrive/crop/0013fd999caf9a3efe...</td>\n",
              "      <td>/content/drive/MyDrive/petfinder-pawpularity-s...</td>\n",
              "      <td>/content/drive/MyDrive/petfinder-pawpularity-s...</td>\n",
              "    </tr>\n",
              "    <tr>\n",
              "      <th>3</th>\n",
              "      <td>0018df346ac9c1d8413cfcc888ca8246</td>\n",
              "      <td>0</td>\n",
              "      <td>1</td>\n",
              "      <td>1</td>\n",
              "      <td>1</td>\n",
              "      <td>0</td>\n",
              "      <td>0</td>\n",
              "      <td>0</td>\n",
              "      <td>0</td>\n",
              "      <td>0</td>\n",
              "      <td>0</td>\n",
              "      <td>0</td>\n",
              "      <td>0</td>\n",
              "      <td>15</td>\n",
              "      <td>/content/drive/MyDrive/crop/0018df346ac9c1d841...</td>\n",
              "      <td>/content/drive/MyDrive/petfinder-pawpularity-s...</td>\n",
              "      <td>/content/drive/MyDrive/petfinder-pawpularity-s...</td>\n",
              "    </tr>\n",
              "    <tr>\n",
              "      <th>4</th>\n",
              "      <td>001dc955e10590d3ca4673f034feeef2</td>\n",
              "      <td>0</td>\n",
              "      <td>0</td>\n",
              "      <td>0</td>\n",
              "      <td>1</td>\n",
              "      <td>0</td>\n",
              "      <td>0</td>\n",
              "      <td>1</td>\n",
              "      <td>0</td>\n",
              "      <td>0</td>\n",
              "      <td>0</td>\n",
              "      <td>0</td>\n",
              "      <td>0</td>\n",
              "      <td>72</td>\n",
              "      <td>/content/drive/MyDrive/crop/001dc955e10590d3ca...</td>\n",
              "      <td>/content/drive/MyDrive/petfinder-pawpularity-s...</td>\n",
              "      <td>/content/drive/MyDrive/petfinder-pawpularity-s...</td>\n",
              "    </tr>\n",
              "    <tr>\n",
              "      <th>...</th>\n",
              "      <td>...</td>\n",
              "      <td>...</td>\n",
              "      <td>...</td>\n",
              "      <td>...</td>\n",
              "      <td>...</td>\n",
              "      <td>...</td>\n",
              "      <td>...</td>\n",
              "      <td>...</td>\n",
              "      <td>...</td>\n",
              "      <td>...</td>\n",
              "      <td>...</td>\n",
              "      <td>...</td>\n",
              "      <td>...</td>\n",
              "      <td>...</td>\n",
              "      <td>...</td>\n",
              "      <td>...</td>\n",
              "      <td>...</td>\n",
              "    </tr>\n",
              "    <tr>\n",
              "      <th>9907</th>\n",
              "      <td>ffbfa0383c34dc513c95560d6e1fdb57</td>\n",
              "      <td>0</td>\n",
              "      <td>0</td>\n",
              "      <td>0</td>\n",
              "      <td>1</td>\n",
              "      <td>0</td>\n",
              "      <td>0</td>\n",
              "      <td>0</td>\n",
              "      <td>0</td>\n",
              "      <td>0</td>\n",
              "      <td>0</td>\n",
              "      <td>0</td>\n",
              "      <td>1</td>\n",
              "      <td>15</td>\n",
              "      <td>/content/drive/MyDrive/crop/ffbfa0383c34dc513c...</td>\n",
              "      <td>/content/drive/MyDrive/petfinder-pawpularity-s...</td>\n",
              "      <td>/content/drive/MyDrive/petfinder-pawpularity-s...</td>\n",
              "    </tr>\n",
              "    <tr>\n",
              "      <th>9908</th>\n",
              "      <td>ffcc8532d76436fc79e50eb2e5238e45</td>\n",
              "      <td>0</td>\n",
              "      <td>1</td>\n",
              "      <td>1</td>\n",
              "      <td>1</td>\n",
              "      <td>0</td>\n",
              "      <td>0</td>\n",
              "      <td>0</td>\n",
              "      <td>0</td>\n",
              "      <td>0</td>\n",
              "      <td>0</td>\n",
              "      <td>0</td>\n",
              "      <td>0</td>\n",
              "      <td>70</td>\n",
              "      <td>/content/drive/MyDrive/crop/ffcc8532d76436fc79...</td>\n",
              "      <td>/content/drive/MyDrive/petfinder-pawpularity-s...</td>\n",
              "      <td>/content/drive/MyDrive/petfinder-pawpularity-s...</td>\n",
              "    </tr>\n",
              "    <tr>\n",
              "      <th>9909</th>\n",
              "      <td>ffdf2e8673a1da6fb80342fa3b119a20</td>\n",
              "      <td>0</td>\n",
              "      <td>1</td>\n",
              "      <td>1</td>\n",
              "      <td>1</td>\n",
              "      <td>0</td>\n",
              "      <td>0</td>\n",
              "      <td>0</td>\n",
              "      <td>0</td>\n",
              "      <td>1</td>\n",
              "      <td>1</td>\n",
              "      <td>0</td>\n",
              "      <td>0</td>\n",
              "      <td>20</td>\n",
              "      <td>/content/drive/MyDrive/crop/ffdf2e8673a1da6fb8...</td>\n",
              "      <td>/content/drive/MyDrive/petfinder-pawpularity-s...</td>\n",
              "      <td>/content/drive/MyDrive/petfinder-pawpularity-s...</td>\n",
              "    </tr>\n",
              "    <tr>\n",
              "      <th>9910</th>\n",
              "      <td>fff19e2ce11718548fa1c5d039a5192a</td>\n",
              "      <td>0</td>\n",
              "      <td>1</td>\n",
              "      <td>1</td>\n",
              "      <td>1</td>\n",
              "      <td>0</td>\n",
              "      <td>0</td>\n",
              "      <td>0</td>\n",
              "      <td>0</td>\n",
              "      <td>1</td>\n",
              "      <td>0</td>\n",
              "      <td>0</td>\n",
              "      <td>0</td>\n",
              "      <td>20</td>\n",
              "      <td>/content/drive/MyDrive/crop/fff19e2ce11718548f...</td>\n",
              "      <td>/content/drive/MyDrive/petfinder-pawpularity-s...</td>\n",
              "      <td>/content/drive/MyDrive/petfinder-pawpularity-s...</td>\n",
              "    </tr>\n",
              "    <tr>\n",
              "      <th>9911</th>\n",
              "      <td>fff8e47c766799c9e12f3cb3d66ad228</td>\n",
              "      <td>0</td>\n",
              "      <td>1</td>\n",
              "      <td>1</td>\n",
              "      <td>1</td>\n",
              "      <td>0</td>\n",
              "      <td>0</td>\n",
              "      <td>0</td>\n",
              "      <td>0</td>\n",
              "      <td>0</td>\n",
              "      <td>0</td>\n",
              "      <td>0</td>\n",
              "      <td>0</td>\n",
              "      <td>30</td>\n",
              "      <td>/content/drive/MyDrive/crop/fff8e47c766799c9e1...</td>\n",
              "      <td>/content/drive/MyDrive/petfinder-pawpularity-s...</td>\n",
              "      <td>/content/drive/MyDrive/petfinder-pawpularity-s...</td>\n",
              "    </tr>\n",
              "  </tbody>\n",
              "</table>\n",
              "<p>9912 rows × 17 columns</p>\n",
              "</div>"
            ],
            "text/plain": [
              "                                     Id  ...                                          New_image\n",
              "index                                    ...                                                   \n",
              "0      0007de18844b0dbbb5e1f607da0606e0  ...  /content/drive/MyDrive/petfinder-pawpularity-s...\n",
              "1      0009c66b9439883ba2750fb825e1d7db  ...  /content/drive/MyDrive/crop/0009c66b9439883ba2...\n",
              "2      0013fd999caf9a3efe1352ca1b0d937e  ...  /content/drive/MyDrive/petfinder-pawpularity-s...\n",
              "3      0018df346ac9c1d8413cfcc888ca8246  ...  /content/drive/MyDrive/petfinder-pawpularity-s...\n",
              "4      001dc955e10590d3ca4673f034feeef2  ...  /content/drive/MyDrive/petfinder-pawpularity-s...\n",
              "...                                 ...  ...                                                ...\n",
              "9907   ffbfa0383c34dc513c95560d6e1fdb57  ...  /content/drive/MyDrive/petfinder-pawpularity-s...\n",
              "9908   ffcc8532d76436fc79e50eb2e5238e45  ...  /content/drive/MyDrive/petfinder-pawpularity-s...\n",
              "9909   ffdf2e8673a1da6fb80342fa3b119a20  ...  /content/drive/MyDrive/petfinder-pawpularity-s...\n",
              "9910   fff19e2ce11718548fa1c5d039a5192a  ...  /content/drive/MyDrive/petfinder-pawpularity-s...\n",
              "9911   fff8e47c766799c9e12f3cb3d66ad228  ...  /content/drive/MyDrive/petfinder-pawpularity-s...\n",
              "\n",
              "[9912 rows x 17 columns]"
            ]
          },
          "metadata": {},
          "execution_count": 40
        }
      ]
    },
    {
      "cell_type": "code",
      "metadata": {
        "id": "kTzjkLOwwI52",
        "colab": {
          "base_uri": "https://localhost:8080/"
        },
        "outputId": "2655bac5-143d-48d1-f356-bac08b5cbe87"
      },
      "source": [
        "train1.iloc[17] #17번째 이미지가 cropped 이미지로 변경 되었음을 확인 "
      ],
      "execution_count": 41,
      "outputs": [
        {
          "output_type": "execute_result",
          "data": {
            "text/plain": [
              "Id                                006fe962f5f7e2c5f527b2e27e28ed6d\n",
              "Subject Focus                                                    0\n",
              "Eyes                                                             1\n",
              "Face                                                             1\n",
              "Near                                                             0\n",
              "Action                                                           0\n",
              "Accessory                                                        0\n",
              "Group                                                            0\n",
              "Collage                                                          1\n",
              "Human                                                            1\n",
              "Occlusion                                                        1\n",
              "Info                                                             0\n",
              "Blur                                                             0\n",
              "Pawpularity                                                     69\n",
              "crop_image       /content/drive/MyDrive/crop/006fe962f5f7e2c5f5...\n",
              "normal_image     /content/drive/MyDrive/petfinder-pawpularity-s...\n",
              "New_image        /content/drive/MyDrive/crop/006fe962f5f7e2c5f5...\n",
              "Name: 17, dtype: object"
            ]
          },
          "metadata": {},
          "execution_count": 41
        }
      ]
    },
    {
      "cell_type": "markdown",
      "metadata": {
        "id": "Bu_i3jBxVsCy"
      },
      "source": [
        "# CNN 모델 학습"
      ]
    },
    {
      "cell_type": "code",
      "metadata": {
        "id": "C-92kEotwI73"
      },
      "source": [
        "image_size = 128\n",
        "def preprocess(image_url):\n",
        "    image_string = tf.io.read_file(image_url)\n",
        "    image = tf.image.decode_jpeg(image_string, channels=3)\n",
        "    image = tf.cast(image, tf.float32) / 255.0\n",
        "    image = tf.image.resize(image, (image_size, image_size))\n",
        "    return image"
      ],
      "execution_count": 42,
      "outputs": []
    },
    {
      "cell_type": "code",
      "metadata": {
        "id": "-u6gi-mdwI-G"
      },
      "source": [
        "x_train=[]\n",
        "for i in train1['New_image']:\n",
        "    x1=preprocess(i)\n",
        "    x_train.append(x1)"
      ],
      "execution_count": 43,
      "outputs": []
    },
    {
      "cell_type": "code",
      "metadata": {
        "id": "_8lGeWE9wJAN"
      },
      "source": [
        "test2=[]\n",
        "for i in test['file_path']:\n",
        "    x1=preprocess(i)\n",
        "    test2.append(x1)\n",
        "test2=np.array(test2)"
      ],
      "execution_count": 44,
      "outputs": []
    },
    {
      "cell_type": "code",
      "metadata": {
        "id": "ujvCjvegwJCc"
      },
      "source": [
        "x_train=np.array(x_train)\n",
        "y_train=train['Pawpularity']\n",
        "from sklearn.model_selection import train_test_split\n",
        "x_train,x_test,y_train,y_test=train_test_split(x_train,y_train,test_size=0.2)"
      ],
      "execution_count": 45,
      "outputs": []
    },
    {
      "cell_type": "code",
      "metadata": {
        "id": "mfAavUBLwJEk"
      },
      "source": [
        "inputs=keras.Input(shape=(128,128,3))\n",
        "x=inputs\n",
        "x=keras.layers.Conv2D(filters=4,kernel_size=3,strides=2,padding='same',activation='relu')(x)\n",
        "x=keras.layers.Conv2D(filters=8,kernel_size=3,strides=2,padding='same',activation='relu')(x)\n",
        "x=keras.layers.Conv2D(filters=16,kernel_size=3,strides=2,padding='same',activation='relu')(x)\n",
        "x=keras.layers.Conv2D(filters=32,kernel_size=3,strides=2,padding='same',activation='relu')(x)\n",
        "x=keras.layers.Flatten()(x)\n",
        "x=keras.layers.Dense(128, activation = \"relu\")(x)\n",
        "x=keras.layers.Dropout(0.5)(x)\n",
        "output = tf.keras.layers.Dense(1)(x)\n",
        "model = tf.keras.Model(inputs=inputs, outputs=output)"
      ],
      "execution_count": 46,
      "outputs": []
    },
    {
      "cell_type": "code",
      "metadata": {
        "id": "QqKpWLNOwJHK"
      },
      "source": [
        "early_stop = tf.keras.callbacks.EarlyStopping(\n",
        "    patience=5\n",
        "    )\n",
        "reduce_lr = tf.keras.callbacks.ReduceLROnPlateau(\n",
        "    factor=0.1,\n",
        "    patience=2, \n",
        "    min_lr=1e-9\n",
        "    )\n",
        "callbacks = [early_stop,reduce_lr]"
      ],
      "execution_count": 47,
      "outputs": []
    },
    {
      "cell_type": "code",
      "metadata": {
        "id": "NHTbmY6sHe5h"
      },
      "source": [
        "model.compile(loss='mse', optimizer='Adam', metrics=[tf.keras.metrics.RootMeanSquaredError(name=\"rmse\"), \"mae\", \"mape\"])"
      ],
      "execution_count": 48,
      "outputs": []
    },
    {
      "cell_type": "code",
      "metadata": {
        "colab": {
          "base_uri": "https://localhost:8080/"
        },
        "id": "DGK4IaAIHe9-",
        "outputId": "b5ceaf20-8436-4b32-d9f5-57049baf2efd"
      },
      "source": [
        "history = model.fit(x_train,y_train, epochs=25,batch_size=32,validation_data = (x_test,y_test),callbacks=callbacks)"
      ],
      "execution_count": 49,
      "outputs": [
        {
          "output_type": "stream",
          "name": "stdout",
          "text": [
            "Epoch 1/25\n",
            "248/248 [==============================] - 19s 72ms/step - loss: 541.9844 - rmse: 23.2806 - mae: 17.1751 - mape: 78.7861 - val_loss: 426.8297 - val_rmse: 20.6599 - val_mae: 15.2009 - val_mape: 73.5821\n",
            "Epoch 2/25\n",
            "248/248 [==============================] - 17s 70ms/step - loss: 458.8934 - rmse: 21.4218 - mae: 15.9161 - mape: 79.0035 - val_loss: 416.8371 - val_rmse: 20.4166 - val_mae: 15.4475 - val_mape: 78.4757\n",
            "Epoch 3/25\n",
            "248/248 [==============================] - 17s 70ms/step - loss: 455.5669 - rmse: 21.3440 - mae: 15.8514 - mape: 78.3210 - val_loss: 416.5031 - val_rmse: 20.4084 - val_mae: 15.5380 - val_mape: 79.4576\n",
            "Epoch 4/25\n",
            "248/248 [==============================] - 17s 70ms/step - loss: 451.0703 - rmse: 21.2384 - mae: 15.7993 - mape: 78.8523 - val_loss: 415.9895 - val_rmse: 20.3958 - val_mae: 15.4595 - val_mape: 78.5939\n",
            "Epoch 5/25\n",
            "248/248 [==============================] - 17s 70ms/step - loss: 446.1985 - rmse: 21.1234 - mae: 15.7519 - mape: 78.6940 - val_loss: 432.0810 - val_rmse: 20.7866 - val_mae: 14.9484 - val_mape: 69.1709\n",
            "Epoch 6/25\n",
            "248/248 [==============================] - 17s 70ms/step - loss: 449.7537 - rmse: 21.2074 - mae: 15.8223 - mape: 77.9985 - val_loss: 429.8849 - val_rmse: 20.7337 - val_mae: 14.9721 - val_mape: 69.9285\n",
            "Epoch 7/25\n",
            "248/248 [==============================] - 17s 70ms/step - loss: 450.1249 - rmse: 21.2161 - mae: 15.7272 - mape: 78.7599 - val_loss: 417.6814 - val_rmse: 20.4373 - val_mae: 15.2423 - val_mape: 75.6121\n",
            "Epoch 8/25\n",
            "248/248 [==============================] - 17s 70ms/step - loss: 444.1029 - rmse: 21.0737 - mae: 15.6886 - mape: 78.5509 - val_loss: 417.4939 - val_rmse: 20.4327 - val_mae: 15.2410 - val_mape: 75.5928\n",
            "Epoch 9/25\n",
            "248/248 [==============================] - 17s 70ms/step - loss: 445.9165 - rmse: 21.1167 - mae: 15.6458 - mape: 77.3551 - val_loss: 416.9088 - val_rmse: 20.4183 - val_mae: 15.2843 - val_mape: 76.2289\n"
          ]
        }
      ]
    },
    {
      "cell_type": "markdown",
      "metadata": {
        "id": "YQV0NWYFTi49"
      },
      "source": [
        ""
      ]
    },
    {
      "cell_type": "code",
      "metadata": {
        "colab": {
          "base_uri": "https://localhost:8080/"
        },
        "id": "gvq3VI_WHe_i",
        "outputId": "b82ac2db-2b8c-41e4-ae94-3c9ea689c2b2"
      },
      "source": [
        "cnn_pred=model.predict(test2)\n",
        "cnn_pred"
      ],
      "execution_count": 50,
      "outputs": [
        {
          "output_type": "execute_result",
          "data": {
            "text/plain": [
              "array([[34.46884 ],\n",
              "       [34.37521 ],\n",
              "       [35.005016],\n",
              "       [34.408062],\n",
              "       [35.189003],\n",
              "       [34.433136],\n",
              "       [34.336784],\n",
              "       [34.45018 ]], dtype=float32)"
            ]
          },
          "metadata": {},
          "execution_count": 50
        }
      ]
    },
    {
      "cell_type": "code",
      "metadata": {
        "id": "HUZkPa6OHfBd"
      },
      "source": [
        ""
      ],
      "execution_count": null,
      "outputs": []
    },
    {
      "cell_type": "code",
      "metadata": {
        "id": "g3w8ZmRKHfDx"
      },
      "source": [
        ""
      ],
      "execution_count": null,
      "outputs": []
    }
  ]
}